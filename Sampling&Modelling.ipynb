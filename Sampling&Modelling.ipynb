{
 "cells": [
  {
   "cell_type": "code",
   "execution_count": null,
   "metadata": {},
   "outputs": [],
   "source": [
    "import os\n",
    "os.getcwd()"
   ]
  },
  {
   "cell_type": "code",
   "execution_count": 3,
   "metadata": {},
   "outputs": [],
   "source": [
    "import re, string, unicodedata\n",
    "import nltk\n",
    "import contractions\n",
    "from bs4 import BeautifulSoup\n",
    "from nltk import word_tokenize, sent_tokenize\n",
    "from nltk.corpus import stopwords\n",
    "from nltk.stem.lancaster import LancasterStemmer\n",
    "from nltk.stem import WordNetLemmatizer\n",
    "from contractions import contractions_dict"
   ]
  },
  {
   "cell_type": "code",
   "execution_count": 1,
   "metadata": {},
   "outputs": [],
   "source": [
    "def expand_contractions(text):\n",
    "    contractions_pattern = re.compile('({})'.format('|'.join(contractions_dict.keys())),flags=re.IGNORECASE|re.DOTALL)\n",
    "    def expand_match(contraction):\n",
    "        match = contraction.group(0)\n",
    "        first_char = match[0]\n",
    "        expanded_contraction = contractions_dict.get(match)\\\n",
    "                        if contractions_dict.get(match)\\\n",
    "                        else contractions_dict.get(match.lower())\n",
    "        expanded_contraction = first_char+expanded_contraction[1:]\n",
    "        return expanded_contraction\n",
    "    \n",
    "    expanded_text = contractions_pattern.sub(expand_match, text)\n",
    "    expanded_text = re.sub(\"'\", \"\", expanded_text)\n",
    "    return expanded_text"
   ]
  },
  {
   "cell_type": "code",
   "execution_count": 8,
   "metadata": {},
   "outputs": [
    {
     "data": {
      "text/plain": [
       "''"
      ]
     },
     "execution_count": 8,
     "metadata": {},
     "output_type": "execute_result"
    }
   ],
   "source": [
    "sample = expand_contractions('')\n",
    "sample"
   ]
  },
  {
   "cell_type": "code",
   "execution_count": 4,
   "metadata": {},
   "outputs": [],
   "source": [
    "try:\n",
    "    from collections import OrderedDict\n",
    "except ImportError:\n",
    "    from ordereddict import OrderedDict\n",
    "    \n",
    "import pandas as pd\n",
    "\n",
    "# Array\n",
    "import numpy as np\n",
    "\n",
    "# Decompress the file\n",
    "import gzip\n",
    "\n",
    "# Visualizations\n",
    "import matplotlib.pyplot as plt\n",
    "from matplotlib.colors import ListedColormap\n",
    "import seaborn as sns\n",
    "import matplotlib.colors as colors\n",
    "%matplotlib inline\n",
    "\n",
    "# Datetime\n",
    "from datetime import datetime\n",
    "\n",
    "## Warnings\n",
    "import warnings\n",
    "from scipy import stats\n",
    "warnings.filterwarnings('ignore')\n",
    "\n",
    "# Large dataset\n",
    "import dask.bag as db\n",
    "Cleanreview_df = pd.read_csv('Cleanreview_VideoGames.csv' )\n"
   ]
  },
  {
   "cell_type": "code",
   "execution_count": 2,
   "metadata": {},
   "outputs": [
    {
     "data": {
      "text/html": [
       "<div>\n",
       "<style scoped>\n",
       "    .dataframe tbody tr th:only-of-type {\n",
       "        vertical-align: middle;\n",
       "    }\n",
       "\n",
       "    .dataframe tbody tr th {\n",
       "        vertical-align: top;\n",
       "    }\n",
       "\n",
       "    .dataframe thead th {\n",
       "        text-align: right;\n",
       "    }\n",
       "</style>\n",
       "<table border=\"1\" class=\"dataframe\">\n",
       "  <thead>\n",
       "    <tr style=\"text-align: right;\">\n",
       "      <th></th>\n",
       "      <th>Rating</th>\n",
       "      <th>ReviewerID</th>\n",
       "      <th>ProductID</th>\n",
       "      <th>ReviewerName</th>\n",
       "      <th>ProductDescription</th>\n",
       "      <th>Price</th>\n",
       "      <th>Categories</th>\n",
       "      <th>ReviewText</th>\n",
       "      <th>RatingClass</th>\n",
       "      <th>ReviewDate</th>\n",
       "      <th>CleanText</th>\n",
       "    </tr>\n",
       "  </thead>\n",
       "  <tbody>\n",
       "    <tr>\n",
       "      <th>0</th>\n",
       "      <td>5</td>\n",
       "      <td>A1HP7NVNPFMA4N</td>\n",
       "      <td>0700026657</td>\n",
       "      <td>Ambrosia075</td>\n",
       "      <td>Anno 2070, the newest version of the award-win...</td>\n",
       "      <td>39.99</td>\n",
       "      <td>[['Video Games', 'PC', 'Games']]</td>\n",
       "      <td>but when you do it's great. This game is a bit...</td>\n",
       "      <td>positive</td>\n",
       "      <td>2015-10-17</td>\n",
       "      <td>great game bite hard get hang great</td>\n",
       "    </tr>\n",
       "    <tr>\n",
       "      <th>1</th>\n",
       "      <td>4</td>\n",
       "      <td>A1JGAP0185YJI6</td>\n",
       "      <td>0700026657</td>\n",
       "      <td>travis</td>\n",
       "      <td>Anno 2070, the newest version of the award-win...</td>\n",
       "      <td>39.99</td>\n",
       "      <td>[['Video Games', 'PC', 'Games']]</td>\n",
       "      <td>But in spite of that it was fun, I liked it I ...</td>\n",
       "      <td>positive</td>\n",
       "      <td>2015-07-27</td>\n",
       "      <td>spite fun like play alright steam bite trouble...</td>\n",
       "    </tr>\n",
       "    <tr>\n",
       "      <th>2</th>\n",
       "      <td>3</td>\n",
       "      <td>A1YJWEXHQBWK2B</td>\n",
       "      <td>0700026657</td>\n",
       "      <td>Vincent G. Mezera</td>\n",
       "      <td>Anno 2070, the newest version of the award-win...</td>\n",
       "      <td>39.99</td>\n",
       "      <td>[['Video Games', 'PC', 'Games']]</td>\n",
       "      <td>Three Stars ok game.</td>\n",
       "      <td>positive</td>\n",
       "      <td>2015-02-23</td>\n",
       "      <td>three star ok game</td>\n",
       "    </tr>\n",
       "    <tr>\n",
       "      <th>3</th>\n",
       "      <td>2</td>\n",
       "      <td>A2204E1TH211HT</td>\n",
       "      <td>0700026657</td>\n",
       "      <td>Grandma KR</td>\n",
       "      <td>Anno 2070, the newest version of the award-win...</td>\n",
       "      <td>39.99</td>\n",
       "      <td>[['Video Games', 'PC', 'Games']]</td>\n",
       "      <td>Two Stars found the game a bit too complicated...</td>\n",
       "      <td>negative</td>\n",
       "      <td>2015-02-20</td>\n",
       "      <td>two star find game bite complicate not expect ...</td>\n",
       "    </tr>\n",
       "    <tr>\n",
       "      <th>4</th>\n",
       "      <td>5</td>\n",
       "      <td>A2RF5B5H74JLPE</td>\n",
       "      <td>0700026657</td>\n",
       "      <td>jon</td>\n",
       "      <td>Anno 2070, the newest version of the award-win...</td>\n",
       "      <td>39.99</td>\n",
       "      <td>[['Video Games', 'PC', 'Games']]</td>\n",
       "      <td>love this game great game, I love it and have ...</td>\n",
       "      <td>positive</td>\n",
       "      <td>2014-12-25</td>\n",
       "      <td>love game great game love play since arrive</td>\n",
       "    </tr>\n",
       "  </tbody>\n",
       "</table>\n",
       "</div>"
      ],
      "text/plain": [
       "   Rating      ReviewerID   ProductID       ReviewerName  \\\n",
       "0       5  A1HP7NVNPFMA4N  0700026657        Ambrosia075   \n",
       "1       4  A1JGAP0185YJI6  0700026657             travis   \n",
       "2       3  A1YJWEXHQBWK2B  0700026657  Vincent G. Mezera   \n",
       "3       2  A2204E1TH211HT  0700026657         Grandma KR   \n",
       "4       5  A2RF5B5H74JLPE  0700026657                jon   \n",
       "\n",
       "                                  ProductDescription  Price  \\\n",
       "0  Anno 2070, the newest version of the award-win...  39.99   \n",
       "1  Anno 2070, the newest version of the award-win...  39.99   \n",
       "2  Anno 2070, the newest version of the award-win...  39.99   \n",
       "3  Anno 2070, the newest version of the award-win...  39.99   \n",
       "4  Anno 2070, the newest version of the award-win...  39.99   \n",
       "\n",
       "                         Categories  \\\n",
       "0  [['Video Games', 'PC', 'Games']]   \n",
       "1  [['Video Games', 'PC', 'Games']]   \n",
       "2  [['Video Games', 'PC', 'Games']]   \n",
       "3  [['Video Games', 'PC', 'Games']]   \n",
       "4  [['Video Games', 'PC', 'Games']]   \n",
       "\n",
       "                                          ReviewText RatingClass  ReviewDate  \\\n",
       "0  but when you do it's great. This game is a bit...    positive  2015-10-17   \n",
       "1  But in spite of that it was fun, I liked it I ...    positive  2015-07-27   \n",
       "2                               Three Stars ok game.    positive  2015-02-23   \n",
       "3  Two Stars found the game a bit too complicated...    negative  2015-02-20   \n",
       "4  love this game great game, I love it and have ...    positive  2014-12-25   \n",
       "\n",
       "                                           CleanText  \n",
       "0                great game bite hard get hang great  \n",
       "1  spite fun like play alright steam bite trouble...  \n",
       "2                                 three star ok game  \n",
       "3  two star find game bite complicate not expect ...  \n",
       "4        love game great game love play since arrive  "
      ]
     },
     "execution_count": 2,
     "metadata": {},
     "output_type": "execute_result"
    }
   ],
   "source": [
    "Cleanreview_df.head()"
   ]
  },
  {
   "cell_type": "code",
   "execution_count": 12,
   "metadata": {},
   "outputs": [
    {
     "name": "stdout",
     "output_type": "stream",
     "text": [
      "<class 'pandas.core.frame.DataFrame'>\n",
      "RangeIndex: 497240 entries, 0 to 497239\n",
      "Data columns (total 12 columns):\n",
      " #   Column              Non-Null Count   Dtype         \n",
      "---  ------              --------------   -----         \n",
      " 0   Rating              497240 non-null  int64         \n",
      " 1   ReviewerID          497240 non-null  object        \n",
      " 2   ProductID           497240 non-null  object        \n",
      " 3   ReviewerName        497131 non-null  object        \n",
      " 4   ProductDescription  287372 non-null  object        \n",
      " 5   Price               356582 non-null  float64       \n",
      " 6   Categories          359654 non-null  object        \n",
      " 7   ReviewText          497240 non-null  object        \n",
      " 8   RatingClass         497240 non-null  object        \n",
      " 9   ReviewDate          497240 non-null  datetime64[ns]\n",
      " 10  CleanText           497187 non-null  object        \n",
      " 11  ReviewYear          497240 non-null  int64         \n",
      "dtypes: datetime64[ns](1), float64(1), int64(2), object(8)\n",
      "memory usage: 45.5+ MB\n"
     ]
    }
   ],
   "source": [
    "Cleanreview_df.info()"
   ]
  },
  {
   "cell_type": "code",
   "execution_count": 5,
   "metadata": {},
   "outputs": [
    {
     "data": {
      "text/html": [
       "<div>\n",
       "<style scoped>\n",
       "    .dataframe tbody tr th:only-of-type {\n",
       "        vertical-align: middle;\n",
       "    }\n",
       "\n",
       "    .dataframe tbody tr th {\n",
       "        vertical-align: top;\n",
       "    }\n",
       "\n",
       "    .dataframe thead th {\n",
       "        text-align: right;\n",
       "    }\n",
       "</style>\n",
       "<table border=\"1\" class=\"dataframe\">\n",
       "  <thead>\n",
       "    <tr style=\"text-align: right;\">\n",
       "      <th></th>\n",
       "      <th>Rating</th>\n",
       "      <th>ReviewerID</th>\n",
       "      <th>ProductID</th>\n",
       "      <th>ReviewerName</th>\n",
       "      <th>ProductDescription</th>\n",
       "      <th>Price</th>\n",
       "      <th>Categories</th>\n",
       "      <th>ReviewText</th>\n",
       "      <th>RatingClass</th>\n",
       "      <th>ReviewDate</th>\n",
       "      <th>CleanText</th>\n",
       "      <th>ReviewYear</th>\n",
       "    </tr>\n",
       "  </thead>\n",
       "  <tbody>\n",
       "    <tr>\n",
       "      <th>0</th>\n",
       "      <td>5</td>\n",
       "      <td>A1HP7NVNPFMA4N</td>\n",
       "      <td>0700026657</td>\n",
       "      <td>Ambrosia075</td>\n",
       "      <td>Anno 2070, the newest version of the award-win...</td>\n",
       "      <td>39.99</td>\n",
       "      <td>[['Video Games', 'PC', 'Games']]</td>\n",
       "      <td>but when you do it's great. This game is a bit...</td>\n",
       "      <td>positive</td>\n",
       "      <td>2015-10-17</td>\n",
       "      <td>great game bite hard get hang great</td>\n",
       "      <td>2015</td>\n",
       "    </tr>\n",
       "    <tr>\n",
       "      <th>1</th>\n",
       "      <td>4</td>\n",
       "      <td>A1JGAP0185YJI6</td>\n",
       "      <td>0700026657</td>\n",
       "      <td>travis</td>\n",
       "      <td>Anno 2070, the newest version of the award-win...</td>\n",
       "      <td>39.99</td>\n",
       "      <td>[['Video Games', 'PC', 'Games']]</td>\n",
       "      <td>But in spite of that it was fun, I liked it I ...</td>\n",
       "      <td>positive</td>\n",
       "      <td>2015-07-27</td>\n",
       "      <td>spite fun like play alright steam bite trouble...</td>\n",
       "      <td>2015</td>\n",
       "    </tr>\n",
       "    <tr>\n",
       "      <th>2</th>\n",
       "      <td>3</td>\n",
       "      <td>A1YJWEXHQBWK2B</td>\n",
       "      <td>0700026657</td>\n",
       "      <td>Vincent G. Mezera</td>\n",
       "      <td>Anno 2070, the newest version of the award-win...</td>\n",
       "      <td>39.99</td>\n",
       "      <td>[['Video Games', 'PC', 'Games']]</td>\n",
       "      <td>Three Stars ok game.</td>\n",
       "      <td>positive</td>\n",
       "      <td>2015-02-23</td>\n",
       "      <td>three star ok game</td>\n",
       "      <td>2015</td>\n",
       "    </tr>\n",
       "    <tr>\n",
       "      <th>3</th>\n",
       "      <td>2</td>\n",
       "      <td>A2204E1TH211HT</td>\n",
       "      <td>0700026657</td>\n",
       "      <td>Grandma KR</td>\n",
       "      <td>Anno 2070, the newest version of the award-win...</td>\n",
       "      <td>39.99</td>\n",
       "      <td>[['Video Games', 'PC', 'Games']]</td>\n",
       "      <td>Two Stars found the game a bit too complicated...</td>\n",
       "      <td>negative</td>\n",
       "      <td>2015-02-20</td>\n",
       "      <td>two star find game bite complicate not expect ...</td>\n",
       "      <td>2015</td>\n",
       "    </tr>\n",
       "    <tr>\n",
       "      <th>4</th>\n",
       "      <td>5</td>\n",
       "      <td>A2RF5B5H74JLPE</td>\n",
       "      <td>0700026657</td>\n",
       "      <td>jon</td>\n",
       "      <td>Anno 2070, the newest version of the award-win...</td>\n",
       "      <td>39.99</td>\n",
       "      <td>[['Video Games', 'PC', 'Games']]</td>\n",
       "      <td>love this game great game, I love it and have ...</td>\n",
       "      <td>positive</td>\n",
       "      <td>2014-12-25</td>\n",
       "      <td>love game great game love play since arrive</td>\n",
       "      <td>2014</td>\n",
       "    </tr>\n",
       "  </tbody>\n",
       "</table>\n",
       "</div>"
      ],
      "text/plain": [
       "   Rating      ReviewerID   ProductID       ReviewerName  \\\n",
       "0       5  A1HP7NVNPFMA4N  0700026657        Ambrosia075   \n",
       "1       4  A1JGAP0185YJI6  0700026657             travis   \n",
       "2       3  A1YJWEXHQBWK2B  0700026657  Vincent G. Mezera   \n",
       "3       2  A2204E1TH211HT  0700026657         Grandma KR   \n",
       "4       5  A2RF5B5H74JLPE  0700026657                jon   \n",
       "\n",
       "                                  ProductDescription  Price  \\\n",
       "0  Anno 2070, the newest version of the award-win...  39.99   \n",
       "1  Anno 2070, the newest version of the award-win...  39.99   \n",
       "2  Anno 2070, the newest version of the award-win...  39.99   \n",
       "3  Anno 2070, the newest version of the award-win...  39.99   \n",
       "4  Anno 2070, the newest version of the award-win...  39.99   \n",
       "\n",
       "                         Categories  \\\n",
       "0  [['Video Games', 'PC', 'Games']]   \n",
       "1  [['Video Games', 'PC', 'Games']]   \n",
       "2  [['Video Games', 'PC', 'Games']]   \n",
       "3  [['Video Games', 'PC', 'Games']]   \n",
       "4  [['Video Games', 'PC', 'Games']]   \n",
       "\n",
       "                                          ReviewText RatingClass ReviewDate  \\\n",
       "0  but when you do it's great. This game is a bit...    positive 2015-10-17   \n",
       "1  But in spite of that it was fun, I liked it I ...    positive 2015-07-27   \n",
       "2                               Three Stars ok game.    positive 2015-02-23   \n",
       "3  Two Stars found the game a bit too complicated...    negative 2015-02-20   \n",
       "4  love this game great game, I love it and have ...    positive 2014-12-25   \n",
       "\n",
       "                                           CleanText  ReviewYear  \n",
       "0                great game bite hard get hang great        2015  \n",
       "1  spite fun like play alright steam bite trouble...        2015  \n",
       "2                                 three star ok game        2015  \n",
       "3  two star find game bite complicate not expect ...        2015  \n",
       "4        love game great game love play since arrive        2014  "
      ]
     },
     "execution_count": 5,
     "metadata": {},
     "output_type": "execute_result"
    }
   ],
   "source": [
    "#df['date'].dt.year\n",
    "Cleanreview_df['ReviewDate'] = pd.to_datetime(Cleanreview_df['ReviewDate'])\n",
    "\n",
    "Cleanreview_df['ReviewYear'] = Cleanreview_df['ReviewDate'].dt.year\n",
    "Cleanreview_df.head()\n"
   ]
  },
  {
   "cell_type": "code",
   "execution_count": 24,
   "metadata": {},
   "outputs": [
    {
     "name": "stdout",
     "output_type": "stream",
     "text": [
      "Rating  ReviewYear\n",
      "1       1999              3\n",
      "        2000             99\n",
      "        2001            260\n",
      "        2002            394\n",
      "        2003            326\n",
      "                      ...  \n",
      "5       2014          47867\n",
      "        2015          62012\n",
      "        2016          51143\n",
      "        2017          26678\n",
      "        2018           7942\n",
      "Length: 100, dtype: int64\n"
     ]
    }
   ],
   "source": [
    " classCounts=Cleanreview_df.groupby(['Rating','ReviewYear']).size()\n",
    "print(classCounts)\n",
    "\n",
    "\n",
    "#class_counts\n",
    "class_counts.to_csv('ReviewRatingClass.csv')\n"
   ]
  },
  {
   "cell_type": "code",
   "execution_count": 15,
   "metadata": {},
   "outputs": [
    {
     "data": {
      "text/html": [
       "<div>\n",
       "<style scoped>\n",
       "    .dataframe tbody tr th:only-of-type {\n",
       "        vertical-align: middle;\n",
       "    }\n",
       "\n",
       "    .dataframe tbody tr th {\n",
       "        vertical-align: top;\n",
       "    }\n",
       "\n",
       "    .dataframe thead th {\n",
       "        text-align: right;\n",
       "    }\n",
       "</style>\n",
       "<table border=\"1\" class=\"dataframe\">\n",
       "  <thead>\n",
       "    <tr style=\"text-align: right;\">\n",
       "      <th></th>\n",
       "      <th>ReviewText</th>\n",
       "      <th>CleanText</th>\n",
       "      <th>RatingClass</th>\n",
       "    </tr>\n",
       "  </thead>\n",
       "  <tbody>\n",
       "    <tr>\n",
       "      <th>3</th>\n",
       "      <td>Two Stars found the game a bit too complicated...</td>\n",
       "      <td>two star find game bite complicate not expect ...</td>\n",
       "      <td>negative</td>\n",
       "    </tr>\n",
       "    <tr>\n",
       "      <th>4</th>\n",
       "      <td>love this game great game, I love it and have ...</td>\n",
       "      <td>love game great game love play since arrive</td>\n",
       "      <td>positive</td>\n",
       "    </tr>\n",
       "  </tbody>\n",
       "</table>\n",
       "</div>"
      ],
      "text/plain": [
       "                                          ReviewText  \\\n",
       "3  Two Stars found the game a bit too complicated...   \n",
       "4  love this game great game, I love it and have ...   \n",
       "\n",
       "                                           CleanText RatingClass  \n",
       "3  two star find game bite complicate not expect ...    negative  \n",
       "4        love game great game love play since arrive    positive  "
      ]
     },
     "execution_count": 15,
     "metadata": {},
     "output_type": "execute_result"
    }
   ],
   "source": [
    "rows=[3,4]\n",
    "column=['ReviewText','CleanText','RatingClass']\n",
    "Cleanreview_df.loc[rows,column]"
   ]
  },
  {
   "cell_type": "code",
   "execution_count": 8,
   "metadata": {},
   "outputs": [
    {
     "data": {
      "text/html": [
       "<div>\n",
       "<style scoped>\n",
       "    .dataframe tbody tr th:only-of-type {\n",
       "        vertical-align: middle;\n",
       "    }\n",
       "\n",
       "    .dataframe tbody tr th {\n",
       "        vertical-align: top;\n",
       "    }\n",
       "\n",
       "    .dataframe thead th {\n",
       "        text-align: right;\n",
       "    }\n",
       "</style>\n",
       "<table border=\"1\" class=\"dataframe\">\n",
       "  <thead>\n",
       "    <tr style=\"text-align: right;\">\n",
       "      <th></th>\n",
       "      <th>ReviewerID</th>\n",
       "      <th>Rating</th>\n",
       "    </tr>\n",
       "  </thead>\n",
       "  <tbody>\n",
       "    <tr>\n",
       "      <th>0</th>\n",
       "      <td>0.712774</td>\n",
       "      <td>3</td>\n",
       "    </tr>\n",
       "    <tr>\n",
       "      <th>1</th>\n",
       "      <td>0.868777</td>\n",
       "      <td>1</td>\n",
       "    </tr>\n",
       "    <tr>\n",
       "      <th>2</th>\n",
       "      <td>0.297237</td>\n",
       "      <td>1</td>\n",
       "    </tr>\n",
       "    <tr>\n",
       "      <th>3</th>\n",
       "      <td>0.091346</td>\n",
       "      <td>1</td>\n",
       "    </tr>\n",
       "    <tr>\n",
       "      <th>4</th>\n",
       "      <td>0.018274</td>\n",
       "      <td>4</td>\n",
       "    </tr>\n",
       "  </tbody>\n",
       "</table>\n",
       "</div>"
      ],
      "text/plain": [
       "   ReviewerID  Rating\n",
       "0    0.712774       3\n",
       "1    0.868777       1\n",
       "2    0.297237       1\n",
       "3    0.091346       1\n",
       "4    0.018274       4"
      ]
     },
     "execution_count": 8,
     "metadata": {},
     "output_type": "execute_result"
    }
   ],
   "source": [
    "#df = pd.DataFrame({'col':np.random.randn(12000), 'target':np.random.randint(low = 0, high = 2, size=12000)})\n",
    "#new_df = df.groupby('target').apply(lambda x: x.sample(n=5000)).reset_index(drop = True)\n",
    "\n",
    "Balanced2014Review= pd.DataFrame({'ReviewerID':np.random.randn(15000), 'Rating':np.random.randint(low = 1, high = 5, size=15000)})\n",
    "\n",
    "Balanced2014Review.groupby(['Rating']).size()\n",
    "Balanced2014Review.head()"
   ]
  },
  {
   "cell_type": "code",
   "execution_count": 11,
   "metadata": {},
   "outputs": [
    {
     "name": "stdout",
     "output_type": "stream",
     "text": [
      "Collecting imblearn\n",
      "  Downloading imblearn-0.0-py2.py3-none-any.whl (1.9 kB)\n",
      "Collecting imbalanced-learn\n",
      "  Downloading imbalanced_learn-0.8.0-py3-none-any.whl (206 kB)\n",
      "\u001b[K     |████████████████████████████████| 206 kB 5.6 MB/s eta 0:00:01\n",
      "\u001b[?25hRequirement already satisfied: numpy>=1.13.3 in /opt/conda/lib/python3.7/site-packages (from imbalanced-learn->imblearn) (1.18.4)\n",
      "Collecting scikit-learn>=0.24\n",
      "  Downloading scikit_learn-0.24.1-cp37-cp37m-manylinux2010_x86_64.whl (22.3 MB)\n",
      "\u001b[K     |████████████████████████████████| 22.3 MB 10.2 MB/s eta 0:00:01\n",
      "\u001b[?25hRequirement already satisfied: joblib>=0.11 in /opt/conda/lib/python3.7/site-packages (from imbalanced-learn->imblearn) (0.15.1)\n",
      "Requirement already satisfied: scipy>=0.19.1 in /opt/conda/lib/python3.7/site-packages (from imbalanced-learn->imblearn) (1.4.1)\n",
      "Collecting threadpoolctl>=2.0.0\n",
      "  Downloading threadpoolctl-2.1.0-py3-none-any.whl (12 kB)\n",
      "Installing collected packages: threadpoolctl, scikit-learn, imbalanced-learn, imblearn\n",
      "  Attempting uninstall: scikit-learn\n",
      "    Found existing installation: scikit-learn 0.22.2.post1\n",
      "    Uninstalling scikit-learn-0.22.2.post1:\n",
      "      Successfully uninstalled scikit-learn-0.22.2.post1\n",
      "Successfully installed imbalanced-learn-0.8.0 imblearn-0.0 scikit-learn-0.24.1 threadpoolctl-2.1.0\n",
      "Note: you may need to restart the kernel to use updated packages.\n"
     ]
    }
   ],
   "source": [
    "pip install imblearn"
   ]
  },
  {
   "cell_type": "code",
   "execution_count": 26,
   "metadata": {},
   "outputs": [
    {
     "name": "stdout",
     "output_type": "stream",
     "text": [
      "<class 'pandas.core.frame.DataFrame'>\n",
      "RangeIndex: 497240 entries, 0 to 497239\n",
      "Data columns (total 12 columns):\n",
      " #   Column              Non-Null Count   Dtype         \n",
      "---  ------              --------------   -----         \n",
      " 0   Rating              497240 non-null  int64         \n",
      " 1   ReviewerID          497240 non-null  object        \n",
      " 2   ProductID           497240 non-null  object        \n",
      " 3   ReviewerName        497131 non-null  object        \n",
      " 4   ProductDescription  287372 non-null  object        \n",
      " 5   Price               356582 non-null  float64       \n",
      " 6   Categories          359654 non-null  object        \n",
      " 7   ReviewText          497240 non-null  object        \n",
      " 8   RatingClass         497240 non-null  object        \n",
      " 9   ReviewDate          497240 non-null  datetime64[ns]\n",
      " 10  CleanText           497187 non-null  object        \n",
      " 11  ReviewYear          497240 non-null  int64         \n",
      "dtypes: datetime64[ns](1), float64(1), int64(2), object(8)\n",
      "memory usage: 45.5+ MB\n"
     ]
    }
   ],
   "source": [
    "Cleanreview_df.info()"
   ]
  },
  {
   "cell_type": "code",
   "execution_count": 6,
   "metadata": {},
   "outputs": [],
   "source": [
    "Cleanreview_df.isnull().sum()\n",
    "\n",
    "Cleanreview_df=Cleanreview_df.dropna(subset=['CleanText'])"
   ]
  },
  {
   "cell_type": "code",
   "execution_count": 7,
   "metadata": {},
   "outputs": [
    {
     "data": {
      "text/plain": [
       "Rating                     0\n",
       "ReviewerID                 0\n",
       "ProductID                  0\n",
       "ReviewerName             109\n",
       "ProductDescription    209843\n",
       "Price                 140639\n",
       "Categories            137567\n",
       "ReviewText                 0\n",
       "RatingClass                0\n",
       "ReviewDate                 0\n",
       "CleanText                  0\n",
       "ReviewYear                 0\n",
       "dtype: int64"
      ]
     },
     "execution_count": 7,
     "metadata": {},
     "output_type": "execute_result"
    }
   ],
   "source": [
    "Cleanreview_df.isnull().sum()"
   ]
  },
  {
   "cell_type": "code",
   "execution_count": 12,
   "metadata": {},
   "outputs": [
    {
     "name": "stdout",
     "output_type": "stream",
     "text": [
      "Collecting xgboost\n",
      "  Downloading xgboost-1.3.3-py3-none-manylinux2010_x86_64.whl (157.5 MB)\n",
      "\u001b[K     |████████████████████████████████| 157.5 MB 43 kB/s s eta 0:00:01\n",
      "\u001b[?25hRequirement already satisfied: numpy in /opt/conda/lib/python3.7/site-packages (from xgboost) (1.18.4)\n",
      "Requirement already satisfied: scipy in /opt/conda/lib/python3.7/site-packages (from xgboost) (1.4.1)\n",
      "Installing collected packages: xgboost\n",
      "Successfully installed xgboost-1.3.3\n",
      "Note: you may need to restart the kernel to use updated packages.\n"
     ]
    }
   ],
   "source": [
    "\n",
    "pip install xgboost"
   ]
  },
  {
   "cell_type": "code",
   "execution_count": 8,
   "metadata": {},
   "outputs": [],
   "source": [
    "#sampling with SMOTE\n",
    "from imblearn.over_sampling import SMOTE\n",
    "from collections import Counter\n",
    "from matplotlib import pyplot\n",
    "from sklearn.preprocessing import LabelEncoder\n",
    "\n",
    "from sklearn.model_selection import cross_validate\n",
    "from sklearn.model_selection import train_test_split\n",
    "from sklearn.model_selection import StratifiedKFold\n",
    "from sklearn.model_selection import GridSearchCV\n",
    "from sklearn.model_selection import cross_val_predict\n",
    "from sklearn.model_selection import cross_val_score\n",
    "from sklearn.linear_model import LogisticRegression\n",
    "from sklearn.model_selection import learning_curve\n",
    "from sklearn.ensemble import ExtraTreesClassifier\n",
    "from sklearn.decomposition import TruncatedSVD\n",
    "from sklearn.feature_extraction.text import TfidfVectorizer, CountVectorizer, HashingVectorizer\n",
    "from sklearn.pipeline import Pipeline\n",
    "from sklearn.naive_bayes import MultinomialNB\n",
    "from catboost import CatBoostClassifier, Pool\n",
    "from sklearn.naive_bayes import GaussianNB \n",
    "from sklearn.svm import SVC\n",
    "from sklearn import metrics\n",
    "from sklearn.metrics import classification_report\n",
    "from sklearn.metrics import confusion_matrix\n",
    "from  sklearn.metrics import precision_recall_fscore_support\n",
    "from sklearn.ensemble import RandomForestClassifier\n",
    "from sklearn.tree import DecisionTreeClassifier\n",
    "from sklearn.metrics import f1_score\n",
    "from sklearn.metrics import recall_score\n",
    "from gensim.models import Word2Vec\n",
    "from tqdm import tqdm\n",
    "import xgboost as xgb\n",
    "from xgboost import XGBClassifier\n",
    "from sklearn.dummy import DummyClassifier\n",
    "# define the dataset location\n",
    "\n",
    "X = Cleanreview_df['CleanText']\n",
    "y = Cleanreview_df['Rating']\n",
    "\n",
    "\n",
    "from sklearn.feature_extraction.text import TfidfVectorizer\n",
    "vec = TfidfVectorizer()\n",
    "X = vec.fit_transform(X)\n",
    "\n",
    "#X_train, X_test, y_train, y_test = train_test_split(X, y, test_size=0.25, random_state=42)\n",
    "x_train, x_val, y_train, y_val = train_test_split(X, y,train_size=3000,\n",
    "                                                  test_size = 1000,\n",
    "                                                  random_state=12)\n",
    "\n",
    "'''\n",
    "from imblearn.over_sampling import SMOTE \n",
    "sm = SMOTE(k_neighbors=1, random_state = 2) \n",
    "X_train_res, y_train_res = sm.fit_sample(X, df.labels) \n",
    "'''\n",
    "\n",
    "sm = SMOTE(random_state=12)\n",
    "x_train_res, y_train_res = sm.fit_resample(x_train, y_train)\n"
   ]
  },
  {
   "cell_type": "code",
   "execution_count": 9,
   "metadata": {},
   "outputs": [],
   "source": [
    "x_test_res, y_test_res = sm.fit_resample(x_val, y_val)"
   ]
  },
  {
   "cell_type": "code",
   "execution_count": 28,
   "metadata": {},
   "outputs": [
    {
     "data": {
      "text/plain": [
       "5    1818\n",
       "4    1818\n",
       "3    1818\n",
       "2    1818\n",
       "1    1818\n",
       "Name: Rating, dtype: int64"
      ]
     },
     "execution_count": 28,
     "metadata": {},
     "output_type": "execute_result"
    }
   ],
   "source": [
    "#Verifying oversampling \n",
    "y_test_res.value_counts()\n",
    "y_train_res.value_counts()"
   ]
  },
  {
   "cell_type": "code",
   "execution_count": 40,
   "metadata": {},
   "outputs": [
    {
     "name": "stdout",
     "output_type": "stream",
     "text": [
      "\u001b[31mERROR: Could not find a version that satisfies the requirement itertools (from versions: none)\u001b[0m\n",
      "\u001b[31mERROR: No matching distribution found for itertools\u001b[0m\n",
      "Note: you may need to restart the kernel to use updated packages.\n"
     ]
    }
   ],
   "source": [
    "pip install itertools"
   ]
  },
  {
   "cell_type": "code",
   "execution_count": 10,
   "metadata": {},
   "outputs": [],
   "source": [
    "#Modelling\n",
    "import itertools\n",
    "# Confusion Matrix function\n",
    "def plot_confusion_matrix(cm, classes,\n",
    "                          normalize=False,\n",
    "                          title = 'Confusion matrix',\n",
    "                          cmap = plt.cm.ocean):\n",
    "    \"\"\"\n",
    "    Create a confusion matrix plot for 'good' and 'bad' rating values \n",
    "    \"\"\"\n",
    "    if normalize:\n",
    "        cm = cm.astype('float') / cm.sum(axis = 1)[:, np.newaxis]\n",
    "    plt.imshow(cm, interpolation = 'nearest', cmap = cmap)\n",
    "    plt.title(title, fontsize = 20)\n",
    "    plt.colorbar()\n",
    "    tick_marks = np.arange(len(classes))\n",
    "    plt.xticks(tick_marks, classes, fontsize = 20)\n",
    "    plt.yticks(tick_marks, classes, fontsize = 20)\n",
    "    \n",
    "    fmt = '.2f' if normalize else 'd'\n",
    "    thresh = cm.max() / 2.\n",
    "\n",
    "    for i, j in itertools.product(range(cm.shape[0]), range(cm.shape[1])):\n",
    "        plt.text(j, i, format(cm[i, j], fmt), horizontalalignment = \"center\", \n",
    "                 color = \"white\" if cm[i, j] < thresh else \"black\", fontsize = 40)\n",
    "    \n",
    "    plt.tight_layout()\n",
    "    plt.ylabel('True Label', fontsize = 30)\n",
    "    plt.xlabel('Predicted Label', fontsize = 30)\n",
    "\n",
    "    return plt"
   ]
  },
  {
   "cell_type": "code",
   "execution_count": 11,
   "metadata": {},
   "outputs": [],
   "source": [
    "def disp_confusion_matrix(y_pred, model_name, vector = 'CounterVectorizing'):\n",
    "    \"\"\"\n",
    "    Display confusion matrix for selected model with countVectorizer\n",
    "    \"\"\"\n",
    "    cm = confusion_matrix(y_test_res, predictions)\n",
    "    fig = plt.figure(figsize=(10, 10))\n",
    "    plot = plot_confusion_matrix(cm, classes=[1,2,3,4,5], normalize=False, \n",
    "                                 title = model_name + \" \" + 'with' + \" \" + vector + \" \"+ '\\nConfusion Matrix')\n",
    "    plt.show()"
   ]
  },
  {
   "cell_type": "code",
   "execution_count": 12,
   "metadata": {},
   "outputs": [],
   "source": [
    "def modeling(Model, Xtrain = x_train_res, Xtest = x_test_res):\n",
    "    \"\"\"\n",
    "    This function apply countVectorizer with machine learning algorithms. \n",
    "    \"\"\"\n",
    "    \n",
    "    # Instantiate the classifier: model\n",
    "    model = Model\n",
    "    \n",
    "    # Fitting classifier to the Training set (all features)\n",
    "    model.fit(Xtrain, y_train)\n",
    "    \n",
    "    global y_pred\n",
    "    # Predicting the Test set results\n",
    "    y_pred = model.predict(Xtest)\n",
    "    \n",
    "    # Assign f1 score to a variable\n",
    "    score = f1_score(y_test, y_pred, average = 'weighted')\n",
    "    \n",
    "    # Printing evaluation metric (f1-score) \n",
    "    print(\"f1 score: {}\".format(score))"
   ]
  },
  {
   "cell_type": "code",
   "execution_count": 29,
   "metadata": {},
   "outputs": [],
   "source": [
    "#Function call for Logistic Regression\n",
    "\n",
    "logisticRegr = LogisticRegression()\n",
    "\n",
    "logisticRegr.fit(x_train_res, y_train_res)\n",
    "\n",
    "predictions = logisticRegr.predict(x_test_res)"
   ]
  },
  {
   "cell_type": "code",
   "execution_count": 30,
   "metadata": {},
   "outputs": [
    {
     "name": "stdout",
     "output_type": "stream",
     "text": [
      "0.5154605263157894\n"
     ]
    }
   ],
   "source": [
    "score = logisticRegr.score(x_test_res, y_test_res)\n",
    "#score = f1_score(y_test_res, predictions, average = 'weighted')\n",
    "print(score)"
   ]
  },
  {
   "cell_type": "code",
   "execution_count": 31,
   "metadata": {},
   "outputs": [
    {
     "name": "stdout",
     "output_type": "stream",
     "text": [
      "              precision    recall  f1-score   support\n",
      "\n",
      "           1       0.80      0.53      0.64       608\n",
      "           2       0.60      0.21      0.31       608\n",
      "           3       0.39      0.50      0.43       608\n",
      "           4       0.43      0.53      0.47       608\n",
      "           5       0.56      0.81      0.66       608\n",
      "\n",
      "    accuracy                           0.52      3040\n",
      "   macro avg       0.55      0.52      0.50      3040\n",
      "weighted avg       0.55      0.52      0.50      3040\n",
      "\n"
     ]
    }
   ],
   "source": [
    "print(classification_report(y_test_res, predictions))"
   ]
  },
  {
   "cell_type": "code",
   "execution_count": 43,
   "metadata": {},
   "outputs": [
    {
     "data": {
      "image/png": "[encoded data removed]",
      "text/plain": [
       "<Figure size 720x720 with 2 Axes>"
      ]
     },
     "metadata": {
      "needs_background": "light"
     },
     "output_type": "display_data"
    }
   ],
   "source": [
    "disp_confusion_matrix(predictions, \"Logistic Regression\")"
   ]
  },
  {
   "cell_type": "code",
   "execution_count": null,
   "metadata": {},
   "outputs": [],
   "source": [
    "#Modelling using Naive Bayes\n",
    "model=GaussianNB()\n",
    "x_train_res=x_train_res.toarray()\n",
    "model.fit(x_train_res, y_train_res)\n",
    "\n",
    "predictions = model.predict(x_test_res)"
   ]
  },
  {
   "cell_type": "code",
   "execution_count": 13,
   "metadata": {},
   "outputs": [],
   "source": [
    "# Fuction to compute alpha value\n",
    "def naive_bayes(X_train, y_train):\n",
    "    \n",
    "    alpha_values = np.arange(1, 500, 0.5)\n",
    "        \n",
    "\n",
    "    # empty list that will hold cv scores\n",
    "    cv_scores = []\n",
    "\n",
    "    # perform 10-fold cross validation\n",
    "    for alpha in alpha_values:\n",
    "        mnb = MultinomialNB(alpha = alpha)\n",
    "        scores = cross_val_score(mnb, X_train, y_train, cv = 10, scoring = 'accuracy')\n",
    "        cv_scores.append(scores.mean())\n",
    "\n",
    "    # changing to misclassification error\n",
    "    MSE = [1 - x for x in cv_scores]\n",
    "\n",
    "    # determining best alpha\n",
    "    optimal_alpha = alpha_values[MSE.index(min(MSE))]\n",
    "    print('\\nThe optimal number of alpha is %d.' % optimal_alpha)\n",
    "\n",
    "    # plot misclassification error vs alpha\n",
    "    plt.plot(alpha_values, MSE, marker = '*') \n",
    "\n",
    "    #for xy in zip(alpha_values, np.round(MSE,3)):\n",
    "        #plt.annotate('(%s, %s)' % xy, xy=xy, textcoords='data')\n",
    "    plt.title(\"Misclassification Error vs alpha\")\n",
    "    plt.xlabel('value of alpha')\n",
    "    plt.ylabel('Misclassification Error')\n",
    "    plt.show()\n",
    "\n",
    "    #print(\"the misclassification error for each value of alpha is : \", np.round(MSE,3))\n",
    "    return optimal_alpha\n"
   ]
  },
  {
   "cell_type": "code",
   "execution_count": 14,
   "metadata": {},
   "outputs": [
    {
     "name": "stdout",
     "output_type": "stream",
     "text": [
      "\n",
      "The optimal number of alpha is 1.\n"
     ]
    },
    {
     "data": {
      "image/png": "[encoded data removed]",
      "text/plain": [
       "<Figure size 432x288 with 1 Axes>"
      ]
     },
     "metadata": {
      "needs_background": "light"
     },
     "output_type": "display_data"
    }
   ],
   "source": [
    "optimal_alpha_bow = naive_bayes(x_train_res, y_train_res)"
   ]
  },
  {
   "cell_type": "code",
   "execution_count": 15,
   "metadata": {},
   "outputs": [],
   "source": [
    "# instantiate learning model alpha = optimal_alpha\n",
    "nb_optimal =  MultinomialNB(alpha = optimal_alpha_bow)\n",
    "\n",
    "# fitting the model\n",
    "nb_optimal.fit(x_train_res, y_train_res)\n",
    "\n",
    "# predict the response\n"
   ]
  },
  {
   "cell_type": "code",
   "execution_count": 19,
   "metadata": {},
   "outputs": [],
   "source": [
    "predictions = nb_optimal.predict(x_test_res)"
   ]
  },
  {
   "cell_type": "code",
   "execution_count": 20,
   "metadata": {},
   "outputs": [
    {
     "name": "stdout",
     "output_type": "stream",
     "text": [
      "              precision    recall  f1-score   support\n",
      "\n",
      "           1       0.77      0.26      0.39       608\n",
      "           2       0.28      0.05      0.08       608\n",
      "           3       0.27      0.87      0.42       608\n",
      "           4       0.43      0.39      0.41       608\n",
      "           5       0.95      0.38      0.55       608\n",
      "\n",
      "    accuracy                           0.39      3040\n",
      "   macro avg       0.54      0.39      0.37      3040\n",
      "weighted avg       0.54      0.39      0.37      3040\n",
      "\n"
     ]
    }
   ],
   "source": [
    "print(classification_report(y_test_res, predictions))"
   ]
  },
  {
   "cell_type": "code",
   "execution_count": 21,
   "metadata": {},
   "outputs": [
    {
     "data": {
      "image/png": "[encoded data removed]",
      "text/plain": [
       "<Figure size 720x720 with 2 Axes>"
      ]
     },
     "metadata": {
      "needs_background": "light"
     },
     "output_type": "display_data"
    }
   ],
   "source": [
    "disp_confusion_matrix(predictions, \"Naive Bayes\")"
   ]
  },
  {
   "cell_type": "code",
   "execution_count": null,
   "metadata": {},
   "outputs": [],
   "source": []
  }
 ],
 "metadata": {
  "kernelspec": {
   "display_name": "Python 3",
   "language": "python",
   "name": "python3"
  },
  "language_info": {
   "codemirror_mode": {
    "name": "ipython",
    "version": 3
   },
   "file_extension": ".py",
   "mimetype": "text/x-python",
   "name": "python",
   "nbconvert_exporter": "python",
   "pygments_lexer": "ipython3",
   "version": "3.7.6"
  }
 },
 "nbformat": 4,
 "nbformat_minor": 4
}
